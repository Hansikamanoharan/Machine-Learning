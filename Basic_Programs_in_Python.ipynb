{
  "nbformat": 4,
  "nbformat_minor": 0,
  "metadata": {
    "colab": {
      "name": "Basic Programs in Python",
      "provenance": [],
      "collapsed_sections": []
    },
    "kernelspec": {
      "name": "python3",
      "display_name": "Python 3"
    },
    "language_info": {
      "name": "python"
    }
  },
  "cells": [
    {
      "cell_type": "code",
      "execution_count": 2,
      "metadata": {
        "colab": {
          "base_uri": "https://localhost:8080/"
        },
        "id": "rf18BcXGswso",
        "outputId": "8c5c4340-4bf9-4a0a-8d13-fdeac9b322b6"
      },
      "outputs": [
        {
          "output_type": "stream",
          "name": "stdout",
          "text": [
            "hi!!!\n"
          ]
        }
      ],
      "source": [
        "print(\"hi!!!\")"
      ]
    },
    {
      "cell_type": "code",
      "source": [
        "name=input(\"hans\")"
      ],
      "metadata": {
        "colab": {
          "base_uri": "https://localhost:8080/"
        },
        "id": "Z2pHV1Nus-i7",
        "outputId": "da774399-ccff-412c-da76-9a9dc57fcacb"
      },
      "execution_count": 3,
      "outputs": [
        {
          "name": "stdout",
          "output_type": "stream",
          "text": [
            "hansjayapriya\n"
          ]
        }
      ]
    },
    {
      "cell_type": "code",
      "source": [
        "a=1\n",
        "print(\"The Type of a\",type(a))\n",
        "b=40.4\n",
        "print(\"The Type of b\",type(b))\n",
        "c=1+3j\n",
        "print(\"The Type of c\",type(c))\n",
        "print(\"c is a complex number\",isinstance(1+3j,complex))"
      ],
      "metadata": {
        "colab": {
          "base_uri": "https://localhost:8080/"
        },
        "id": "yZ-YDzybzrP_",
        "outputId": "1cdc1ff1-43e1-4ccf-9bc5-4d87386edefd"
      },
      "execution_count": 5,
      "outputs": [
        {
          "output_type": "stream",
          "name": "stdout",
          "text": [
            "The Type of a <class 'int'>\n",
            "The Type of b <class 'float'>\n",
            "The Type of c <class 'complex'>\n",
            "c is a complex number True\n"
          ]
        }
      ]
    },
    {
      "cell_type": "code",
      "source": [
        "str1='hello everyone'\n",
        "str2='how r u'\n",
        "print(str1[0:2])\n",
        "print(str2[4])\n",
        "print(str1*2)\n",
        "print(str1 + str2)\n"
      ],
      "metadata": {
        "colab": {
          "base_uri": "https://localhost:8080/"
        },
        "id": "h0eC20_31WQ7",
        "outputId": "002a8fc4-bd7e-4b6b-f060-062d93746239"
      },
      "execution_count": 8,
      "outputs": [
        {
          "output_type": "stream",
          "name": "stdout",
          "text": [
            "he\n",
            "r\n",
            "hello everyonehello everyone\n",
            "hello everyonehow r u\n"
          ]
        }
      ]
    },
    {
      "cell_type": "code",
      "source": [
        "list1=[1,\"hi\",\"python\",2]\n",
        "print(type(list1))\n",
        "print(list1[3:])\n",
        "print(list1[0:2])\n",
        "print(list1+list1)\n",
        "print(list1*3)\n"
      ],
      "metadata": {
        "colab": {
          "base_uri": "https://localhost:8080/"
        },
        "id": "H3zhOMuT26Xe",
        "outputId": "079db6bb-4ede-4bc2-e2e3-4be7bf575e55"
      },
      "execution_count": 10,
      "outputs": [
        {
          "output_type": "stream",
          "name": "stdout",
          "text": [
            "<class 'list'>\n",
            "[2]\n",
            "[1, 'hi']\n",
            "[1, 'hi', 'python', 2, 1, 'hi', 'python', 2]\n",
            "[1, 'hi', 'python', 2, 1, 'hi', 'python', 2, 1, 'hi', 'python', 2]\n"
          ]
        }
      ]
    },
    {
      "cell_type": "code",
      "source": [
        "list1=[\"hijk\",\"0987\"]\n",
        "print(list1)\n",
        "list1.append(\"hi\")\n",
        "print(list1)\n",
        "list1.insert(3,\"bye\")\n",
        "print(list1)\n"
      ],
      "metadata": {
        "colab": {
          "base_uri": "https://localhost:8080/"
        },
        "id": "kT_hnjHk7H30",
        "outputId": "5054c910-5c63-4622-c1d4-841e4630cfef"
      },
      "execution_count": 13,
      "outputs": [
        {
          "output_type": "stream",
          "name": "stdout",
          "text": [
            "['hijk', '0987']\n",
            "['hijk', '0987', 'hi']\n",
            "['hijk', '0987', 'hi', 'bye']\n"
          ]
        }
      ]
    },
    {
      "cell_type": "code",
      "source": [
        "tup=(\"hi\",\"python\",2)\n",
        "print(type(tup))\n",
        "print(tup)\n",
        "print(tup[1:])\n",
        "print(tup[0:1])\n",
        "print(tup+tup)\n",
        "print(tup*4)\n",
        "tup[2]=\"hi\"\n"
      ],
      "metadata": {
        "colab": {
          "base_uri": "https://localhost:8080/",
          "height": 304
        },
        "id": "fv989D8Y73aq",
        "outputId": "c4380477-e0b1-4b79-a9f8-fcb540f302ec"
      },
      "execution_count": 14,
      "outputs": [
        {
          "output_type": "stream",
          "name": "stdout",
          "text": [
            "<class 'tuple'>\n",
            "('hi', 'python', 2)\n",
            "('python', 2)\n",
            "('hi',)\n",
            "('hi', 'python', 2, 'hi', 'python', 2)\n",
            "('hi', 'python', 2, 'hi', 'python', 2, 'hi', 'python', 2, 'hi', 'python', 2)\n"
          ]
        },
        {
          "output_type": "error",
          "ename": "TypeError",
          "evalue": "ignored",
          "traceback": [
            "\u001b[0;31m---------------------------------------------------------------------------\u001b[0m",
            "\u001b[0;31mTypeError\u001b[0m                                 Traceback (most recent call last)",
            "\u001b[0;32m<ipython-input-14-4d20924bebd2>\u001b[0m in \u001b[0;36m<module>\u001b[0;34m()\u001b[0m\n\u001b[1;32m      6\u001b[0m \u001b[0mprint\u001b[0m\u001b[0;34m(\u001b[0m\u001b[0mtup\u001b[0m\u001b[0;34m+\u001b[0m\u001b[0mtup\u001b[0m\u001b[0;34m)\u001b[0m\u001b[0;34m\u001b[0m\u001b[0;34m\u001b[0m\u001b[0m\n\u001b[1;32m      7\u001b[0m \u001b[0mprint\u001b[0m\u001b[0;34m(\u001b[0m\u001b[0mtup\u001b[0m\u001b[0;34m*\u001b[0m\u001b[0;36m4\u001b[0m\u001b[0;34m)\u001b[0m\u001b[0;34m\u001b[0m\u001b[0;34m\u001b[0m\u001b[0m\n\u001b[0;32m----> 8\u001b[0;31m \u001b[0mtup\u001b[0m\u001b[0;34m[\u001b[0m\u001b[0;36m2\u001b[0m\u001b[0;34m]\u001b[0m\u001b[0;34m=\u001b[0m\u001b[0;34m\"hi\"\u001b[0m\u001b[0;34m\u001b[0m\u001b[0;34m\u001b[0m\u001b[0m\n\u001b[0m",
            "\u001b[0;31mTypeError\u001b[0m: 'tuple' object does not support item assignment"
          ]
        }
      ]
    },
    {
      "cell_type": "code",
      "source": [
        "r=[1,2,3,4,5,6,7]\n",
        "n=[\"rm\",\"jin\",\"suga\",\"jhope\",\"jimin\",\"v\",\"jungkook\"]\n",
        "data=list(zip(r,n))\n",
        "print(data)"
      ],
      "metadata": {
        "colab": {
          "base_uri": "https://localhost:8080/"
        },
        "id": "EDbDqTru8-QI",
        "outputId": "88c52042-43c3-4941-aa97-8e7d0accad49"
      },
      "execution_count": 16,
      "outputs": [
        {
          "output_type": "stream",
          "name": "stdout",
          "text": [
            "[(1, 'rm'), (2, 'jin'), (3, 'suga'), (4, 'jhope'), (5, 'jimin'), (6, 'v'), (7, 'jungkook')]\n"
          ]
        }
      ]
    },
    {
      "cell_type": "markdown",
      "source": [
        "print(data)"
      ],
      "metadata": {
        "id": "8ok3LPxF_CQT"
      }
    },
    {
      "cell_type": "code",
      "source": [
        "d={101:'caro',102:'divya',103:'hannah',104:'hansika'}\n",
        "print(d)\n",
        "print(\"1st name is \"+d[101])\n",
        "print(\"2nd name is \"+d[104])\n",
        "print(d.keys())\n",
        "print(d.values())\n"
      ],
      "metadata": {
        "colab": {
          "base_uri": "https://localhost:8080/"
        },
        "id": "1THEj7D2JIE9",
        "outputId": "374a5afe-2696-4499-cb97-67dadc9aece4"
      },
      "execution_count": 18,
      "outputs": [
        {
          "output_type": "stream",
          "name": "stdout",
          "text": [
            "{101: 'caro', 102: 'divya', 103: 'hannah', 104: 'hansika'}\n",
            "1st name is caro\n",
            "2nd name is hansika\n",
            "dict_keys([101, 102, 103, 104])\n",
            "dict_values(['caro', 'divya', 'hannah', 'hansika'])\n"
          ]
        }
      ]
    },
    {
      "cell_type": "code",
      "source": [
        "d={101:'caro',102:'divya',103:'hannah',104:'hansika'}\n",
        "copied_dict=d.copy()\n",
        "print(copied_dict)"
      ],
      "metadata": {
        "colab": {
          "base_uri": "https://localhost:8080/"
        },
        "id": "sgzLGuJ_Kcam",
        "outputId": "e7f41d18-8233-4343-d0ad-cacc2bfbab45"
      },
      "execution_count": 19,
      "outputs": [
        {
          "output_type": "stream",
          "name": "stdout",
          "text": [
            "{101: 'caro', 102: 'divya', 103: 'hannah', 104: 'hansika'}\n"
          ]
        }
      ]
    },
    {
      "cell_type": "code",
      "source": [
        "del d[102]\n",
        "d"
      ],
      "metadata": {
        "colab": {
          "base_uri": "https://localhost:8080/"
        },
        "id": "ncM-9fIMMhQ6",
        "outputId": "89efd846-47ab-4f94-8ae0-b0bbfbf2d2d7"
      },
      "execution_count": 20,
      "outputs": [
        {
          "output_type": "execute_result",
          "data": {
            "text/plain": [
              "{101: 'caro', 103: 'hannah', 104: 'hansika'}"
            ]
          },
          "metadata": {},
          "execution_count": 20
        }
      ]
    },
    {
      "cell_type": "code",
      "source": [
        "print(type(True))\n",
        "print(type(False))\n",
        "print(False)\n",
        "print(True)"
      ],
      "metadata": {
        "colab": {
          "base_uri": "https://localhost:8080/"
        },
        "id": "mgxpytGiNGZ9",
        "outputId": "2730dddc-793e-4817-c2c7-b1dbadd3e70f"
      },
      "execution_count": 23,
      "outputs": [
        {
          "output_type": "stream",
          "name": "stdout",
          "text": [
            "<class 'bool'>\n",
            "<class 'bool'>\n",
            "False\n",
            "True\n"
          ]
        }
      ]
    },
    {
      "cell_type": "code",
      "source": [
        "set1=set()\n",
        "set2={'james',2,x3,'python','james',2,3}\n",
        "print(set2)\n",
        "set2.add(10)\n",
        "print(set2)\n",
        "set2.remove(2)\n",
        "print(set2)\n",
        "\n"
      ],
      "metadata": {
        "colab": {
          "base_uri": "https://localhost:8080/"
        },
        "id": "cxWd0zCDOVw7",
        "outputId": "f384ec56-d1cd-4eaa-8522-a94aff432c6b"
      },
      "execution_count": 25,
      "outputs": [
        {
          "output_type": "stream",
          "name": "stdout",
          "text": [
            "{2, 3, 'james', 'python'}\n",
            "{2, 3, 'james', 10, 'python'}\n",
            "{3, 'james', 10, 'python'}\n"
          ]
        }
      ]
    }
  ]
}