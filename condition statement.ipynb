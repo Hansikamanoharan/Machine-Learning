{
 "cells": [
  {
   "cell_type": "code",
   "execution_count": 22,
   "id": "2910a4eb",
   "metadata": {},
   "outputs": [
    {
     "name": "stdout",
     "output_type": "stream",
     "text": [
      "enter the marks:30\n",
      "YOU SCORED GRADE D!!\n"
     ]
    }
   ],
   "source": [
    "marks=int(input(\"enter the marks:\"))\n",
    "if marks>85 and marks<=100:\n",
    "    print(\"congrats!!YOU SCORED GRADE A!!!!\")\n",
    "elif marks>60 and marks<=85:\n",
    "    print(\"CONGRATS!!YOU SCORED GRADE B!!!\")\n",
    "elif marks>40 and marks<=60:\n",
    "    print(\"CONGRATS!!YOU SCORED GRADE C\")\n",
    "elif( marks>=30 and marks<=40):\n",
    "    print(\"YOU SCORED GRADE D!!\")\n",
    "else :\n",
    "    print(\"YOU FAILED!!\")\n"
   ]
  },
  {
   "cell_type": "code",
   "execution_count": 18,
   "id": "633c09c2",
   "metadata": {},
   "outputs": [
    {
     "name": "stdout",
     "output_type": "stream",
     "text": [
      "the sum of squares is : 285\n"
     ]
    }
   ],
   "source": [
    "numbers=[3,4,5,6,7,8,9,2,1]\n",
    "sum_=0\n",
    "for num in numbers:\n",
    "    sum_=sum_+num**2\n",
    "print(\"the sum of squares is :\",sum_)    "
   ]
  },
  {
   "cell_type": "code",
   "execution_count": 19,
   "id": "9fdb7856",
   "metadata": {},
   "outputs": [
    {
     "name": "stdout",
     "output_type": "stream",
     "text": [
      "string iteration\n",
      "J\n",
      "E\n",
      "O\n",
      "N\n",
      "J\n",
      "U\n",
      "N\n",
      "G\n",
      "K\n",
      "O\n",
      "O\n",
      "K\n"
     ]
    }
   ],
   "source": [
    "print(\"string iteration\")\n",
    "s=\"JEONJUNGKOOK\"\n",
    "for i in s:\n",
    "    print(i)"
   ]
  },
  {
   "cell_type": "code",
   "execution_count": 24,
   "id": "93e8cf72",
   "metadata": {},
   "outputs": [
    {
     "name": "stdout",
     "output_type": "stream",
     "text": [
      "12345689"
     ]
    }
   ],
   "source": [
    "for i in range (1,10):\n",
    "    if i==7:\n",
    "        continue\n",
    "    else:\n",
    "        print(i,end=\"\")"
   ]
  },
  {
   "cell_type": "code",
   "execution_count": 30,
   "id": "80bb815e",
   "metadata": {},
   "outputs": [
    {
     "name": "stdout",
     "output_type": "stream",
     "text": [
      "1\n",
      "2\n"
     ]
    }
   ],
   "source": [
    "for i in range(1,10):\n",
    "    print(i)\n",
    "    if i==2:\n",
    "        break"
   ]
  },
  {
   "cell_type": "code",
   "execution_count": 33,
   "id": "4e84cc99",
   "metadata": {},
   "outputs": [
    {
     "name": "stdout",
     "output_type": "stream",
     "text": [
      "0\n",
      "1\n",
      "2\n",
      "3\n",
      "4\n",
      "5\n",
      "6\n",
      "7\n",
      "8\n",
      "9\n"
     ]
    }
   ],
   "source": [
    "i=0\n",
    "while i<10:\n",
    "    print(i)\n",
    "    i += 1"
   ]
  }
 ],
 "metadata": {
  "kernelspec": {
   "display_name": "Python 3 (ipykernel)",
   "language": "python",
   "name": "python3"
  },
  "language_info": {
   "codemirror_mode": {
    "name": "ipython",
    "version": 3
   },
   "file_extension": ".py",
   "mimetype": "text/x-python",
   "name": "python",
   "nbconvert_exporter": "python",
   "pygments_lexer": "ipython3",
   "version": "3.9.12"
  }
 },
 "nbformat": 4,
 "nbformat_minor": 5
}
