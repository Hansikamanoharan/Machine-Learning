{
 "cells": [
  {
   "cell_type": "code",
   "execution_count": 1,
   "id": "cdf352cc",
   "metadata": {},
   "outputs": [
    {
     "name": "stdout",
     "output_type": "stream",
     "text": [
      "55\n"
     ]
    }
   ],
   "source": [
    "\"\"\"abs()function\"\"\"\n",
    "neg_number=-55\n",
    "print(abs(neg_number))\n"
   ]
  },
  {
   "cell_type": "code",
   "execution_count": 21,
   "id": "857002bf",
   "metadata": {},
   "outputs": [
    {
     "name": "stdout",
     "output_type": "stream",
     "text": [
      "34\n",
      "-78\n"
     ]
    }
   ],
   "source": [
    "\"\"\"round()function\"\"\"\n",
    "num1=34.366789\n",
    "num2=-77.6754257\n",
    "print(round(num1))\n",
    "print(round(num2))"
   ]
  },
  {
   "cell_type": "code",
   "execution_count": 3,
   "id": "86804166",
   "metadata": {},
   "outputs": [
    {
     "name": "stdout",
     "output_type": "stream",
     "text": [
      "81\n"
     ]
    }
   ],
   "source": [
    "\"\"\"pow()function\"\"\"\n",
    "x=pow(3,4)\n",
    "print(x)"
   ]
  },
  {
   "cell_type": "code",
   "execution_count": 9,
   "id": "577f20d3",
   "metadata": {},
   "outputs": [
    {
     "name": "stdout",
     "output_type": "stream",
     "text": [
      "(7, 0)\n"
     ]
    }
   ],
   "source": [
    "\"\"\"divmod()function\"\"\"\n",
    "x=21\n",
    "y=3\n",
    "print(divmod(x,y))"
   ]
  },
  {
   "cell_type": "code",
   "execution_count": 11,
   "id": "320f7b8b",
   "metadata": {},
   "outputs": [
    {
     "name": "stdout",
     "output_type": "stream",
     "text": [
      "['__class__', '__delattr__', '__dict__', '__dir__', '__doc__', '__eq__', '__format__', '__ge__', '__getattribute__', '__gt__', '__hash__', '__init__', '__init_subclass__', '__le__', '__lt__', '__module__', '__ne__', '__new__', '__reduce__', '__reduce_ex__', '__repr__', '__setattr__', '__sizeof__', '__str__', '__subclasshook__', '__weakref__', 'age', 'country', 'job', 'name']\n"
     ]
    }
   ],
   "source": [
    "class Person:\n",
    "    name=\"Kim Taehyung\"\n",
    "    age = 26\n",
    "    country =\"South Korea\"\n",
    "    job=\"Singer,Songwritter,Dancer,Actor\"\n",
    "print(dir(Person))    "
   ]
  },
  {
   "cell_type": "code",
   "execution_count": 12,
   "id": "7550a0a5",
   "metadata": {},
   "outputs": [
    {
     "name": "stdout",
     "output_type": "stream",
     "text": [
      "['a', 'h', 'i', 'm', 'p', 's', 'w', 'z']\n"
     ]
    }
   ],
   "source": [
    "\"\"\"sorted()function\"\"\"\n",
    "tuple=(\"z\",\"w\",\"s\",\"p\",\"m\",\"h\",\"i\",\"a\")\n",
    "print(sorted(tuple))"
   ]
  },
  {
   "cell_type": "code",
   "execution_count": 14,
   "id": "da8d1a28",
   "metadata": {},
   "outputs": [
    {
     "name": "stdout",
     "output_type": "stream",
     "text": [
      "['z', 'w', 's', 'p', 'm', 'i', 'h', 'a']\n"
     ]
    }
   ],
   "source": [
    "\"\"\"sorted()function\"\"\"\n",
    "tuple=(\"z\",\"w\",\"s\",\"p\",\"m\",\"h\",\"i\",\"a\")\n",
    "print(sorted(tuple,reverse=True))"
   ]
  },
  {
   "cell_type": "code",
   "execution_count": 18,
   "id": "4fcf7291",
   "metadata": {},
   "outputs": [
    {
     "name": "stdout",
     "output_type": "stream",
     "text": [
      "9\n",
      "-4\n",
      "watermelon\n",
      "apple\n"
     ]
    }
   ],
   "source": [
    "\"\"\"max()function\"\"\"\n",
    "\"\"\"min()functuin\"\"\"\n",
    "tuple=(\"apple\",\"orange\",\"watermelon\")\n",
    "num=(1,3,5,7,9,-2,-4)\n",
    "print(max(num))\n",
    "print(min(num))\n",
    "print(max(tuple))\n",
    "print(min(tuple))"
   ]
  },
  {
   "cell_type": "code",
   "execution_count": 28,
   "id": "7a42dab6",
   "metadata": {},
   "outputs": [
    {
     "name": "stdout",
     "output_type": "stream",
     "text": [
      "4\n",
      "12\n"
     ]
    }
   ],
   "source": [
    "\"\"\"len()function\"\"\"\n",
    "list=[\"apple\",\"orange\",\"watermelon\",\"lychee\"]\n",
    "string=\"study python\"\n",
    "print(len(list))\n",
    "print(len(string))"
   ]
  },
  {
   "cell_type": "code",
   "execution_count": 29,
   "id": "17173297",
   "metadata": {},
   "outputs": [
    {
     "name": "stdout",
     "output_type": "stream",
     "text": [
      "45\n"
     ]
    }
   ],
   "source": [
    "\"\"\"sum()function\"\"\"\n",
    "a=(1,2,3,4,5,6,7,8)\n",
    "print(sum(a,9))\n"
   ]
  },
  {
   "cell_type": "code",
   "execution_count": 42,
   "id": "e23ee257",
   "metadata": {},
   "outputs": [
    {
     "name": "stdout",
     "output_type": "stream",
     "text": [
      "Help on built-in function print in module builtins:\n",
      "\n",
      "print(...)\n",
      "    print(value, ..., sep=' ', end='\\n', file=sys.stdout, flush=False)\n",
      "    \n",
      "    Prints the values to a stream, or to sys.stdout by default.\n",
      "    Optional keyword arguments:\n",
      "    file:  a file-like object (stream); defaults to the current sys.stdout.\n",
      "    sep:   string inserted between values, default a space.\n",
      "    end:   string appended after the last value, default a newline.\n",
      "    flush: whether to forcibly flush the stream.\n",
      "\n"
     ]
    }
   ],
   "source": [
    "\"\"\"help()function\"\"\"\n",
    "help(print)"
   ]
  },
  {
   "cell_type": "code",
   "execution_count": 44,
   "id": "4d651bb7",
   "metadata": {},
   "outputs": [
    {
     "name": "stdout",
     "output_type": "stream",
     "text": [
      "The Square of the Number is : 81\n"
     ]
    }
   ],
   "source": [
    "\"\"\"USER_DEFINED FUNCTIONS\"\"\"\n",
    "def square(num):\n",
    "    return num**2\n",
    "object_=square(9)\n",
    "print(\"The Square of the Number is :\",object_)"
   ]
  },
  {
   "cell_type": "code",
   "execution_count": 59,
   "id": "523c47aa",
   "metadata": {},
   "outputs": [
    {
     "name": "stdout",
     "output_type": "stream",
     "text": [
      "Squares of the Result: [2025, 2704, 169]\n"
     ]
    }
   ],
   "source": [
    "\"\"\"Pass By REFERENCE\"\"\"\n",
    "def square(my_list):\n",
    "    squares=[]\n",
    "    for I in my_list:\n",
    "        squares.append(I**2)\n",
    "    return squares\n",
    "list_=[45,52,13];\n",
    "result=square(list_)\n",
    "print(\"Squares of the Result:\",result)\n"
   ]
  },
  {
   "cell_type": "code",
   "execution_count": 1,
   "id": "063c1a88",
   "metadata": {},
   "outputs": [
    {
     "name": "stdout",
     "output_type": "stream",
     "text": [
      "Value of Function is : 50\n",
      "Value of Function is: 90\n"
     ]
    }
   ],
   "source": [
    "\"\"\"lambda function\"\"\"\n",
    "lambda_=lambda argument1,argument2:argument1+argument2;\n",
    "print(\"Value of Function is :\",lambda_(20,30))\n",
    "print(\"Value of Function is:\", lambda_(40,50))"
   ]
  },
  {
   "cell_type": "code",
   "execution_count": null,
   "id": "0b1e051e",
   "metadata": {},
   "outputs": [],
   "source": []
  }
 ],
 "metadata": {
  "kernelspec": {
   "display_name": "Python 3 (ipykernel)",
   "language": "python",
   "name": "python3"
  },
  "language_info": {
   "codemirror_mode": {
    "name": "ipython",
    "version": 3
   },
   "file_extension": ".py",
   "mimetype": "text/x-python",
   "name": "python",
   "nbconvert_exporter": "python",
   "pygments_lexer": "ipython3",
   "version": "3.9.12"
  }
 },
 "nbformat": 4,
 "nbformat_minor": 5
}
